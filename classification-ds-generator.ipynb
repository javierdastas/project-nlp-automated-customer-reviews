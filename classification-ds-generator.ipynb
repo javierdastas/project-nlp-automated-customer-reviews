{
 "cells": [
  {
   "cell_type": "code",
   "execution_count": 1,
   "id": "1e698c66-bcfa-41f7-a831-662fa0f5f4e9",
   "metadata": {},
   "outputs": [
    {
     "name": "stdout",
     "output_type": "stream",
     "text": [
      "Predicting sentiment for user reviews...\n",
      "Output file successfully saved at: ./dataset/output_dataset_with_sentiment.csv\n"
     ]
    }
   ],
   "source": [
    "import os\n",
    "import pandas as pd\n",
    "import torch\n",
    "from transformers import DistilBertTokenizer, DistilBertForSequenceClassification\n",
    "\n",
    "# Load the tokenizer and model\n",
    "tokenizer = DistilBertTokenizer.from_pretrained('./distilbert_sentiment_model')\n",
    "model = DistilBertForSequenceClassification.from_pretrained('./distilbert_sentiment_model')\n",
    "\n",
    "# Check for GPU availability\n",
    "device = torch.device(\"cuda\" if torch.cuda.is_available() else \"cpu\")\n",
    "model.to(device)\n",
    "model.eval()\n",
    "\n",
    "# Function to predict sentiment for a given text\n",
    "def predict_sentiment(text):\n",
    "    # Tokenize and prepare the input\n",
    "    inputs = tokenizer(text, return_tensors=\"pt\", padding=True, truncation=True, max_length=512)\n",
    "    inputs = {key: value.to(device) for key, value in inputs.items()}\n",
    "\n",
    "    # Generate prediction\n",
    "    with torch.no_grad():\n",
    "        outputs = model(**inputs)\n",
    "        logits = outputs.logits\n",
    "        predicted_class = torch.argmax(logits, dim=1).item()\n",
    "\n",
    "    # Map prediction to sentiment labels (adjust this mapping based on your model)\n",
    "    label_mapping = {0: \"negative\", 1: \"neutral\", 2: \"positive\"}\n",
    "    return label_mapping[predicted_class]\n",
    "\n",
    "# Load the dataset\n",
    "input_file_path = './dataset/Datafiniti_Amazon_Consumer_Reviews_of_Amazon_Products_May19.csv'\n",
    "output_file_path = './dataset/output_dataset_with_sentiment.csv'\n",
    "\n",
    "# Make sure the input file exists\n",
    "if os.path.exists(input_file_path):\n",
    "    df = pd.read_csv(input_file_path)\n",
    "\n",
    "    # Apply sentiment prediction\n",
    "    print(\"Predicting sentiment for user reviews...\")\n",
    "    df['sentiment'] = df['reviews.text'].apply(predict_sentiment)\n",
    "\n",
    "    # Save the updated dataset\n",
    "    df.to_csv(output_file_path, index=False)\n",
    "    print(f\"Output file successfully saved at: {output_file_path}\")\n",
    "else:\n",
    "    print(f\"The input file {input_file_path} does not exist. Please check the file path and name.\")\n"
   ]
  },
  {
   "cell_type": "code",
   "execution_count": null,
   "id": "3f6a18c9-ca29-44f3-9f6b-4f07e7e3f27c",
   "metadata": {},
   "outputs": [],
   "source": []
  }
 ],
 "metadata": {
  "kernelspec": {
   "display_name": "Python (base)",
   "language": "python",
   "name": "base"
  },
  "language_info": {
   "codemirror_mode": {
    "name": "ipython",
    "version": 3
   },
   "file_extension": ".py",
   "mimetype": "text/x-python",
   "name": "python",
   "nbconvert_exporter": "python",
   "pygments_lexer": "ipython3",
   "version": "3.12.2"
  }
 },
 "nbformat": 4,
 "nbformat_minor": 5
}
